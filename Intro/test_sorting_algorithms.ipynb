{
 "cells": [
  {
   "cell_type": "code",
   "execution_count": 1,
   "metadata": {},
   "outputs": [],
   "source": [
    "import time\n",
    "import numpy as np\n",
    "from insertion_sort import insertion_sort\n",
    "from merge_sort import merge_sort"
   ]
  },
  {
   "cell_type": "markdown",
   "metadata": {},
   "source": [
    "# Function for testing the algorithms"
   ]
  },
  {
   "cell_type": "code",
   "execution_count": 2,
   "metadata": {},
   "outputs": [],
   "source": [
    "def test_function(sort_function):\n",
    "    elapsed_time = []\n",
    "    for i in range(6):\n",
    "        n = 10**i\n",
    "        seed = 42\n",
    "\n",
    "        a = np.arange(1, n+1, dtype=int)\n",
    "\n",
    "        np.random.seed(seed)\n",
    "        np.random.shuffle(a)\n",
    "\n",
    "        start_time = time.time()\n",
    "        a_sorted = sort_function(np.copy(a))\n",
    "        runtime = time.time() - start_time\n",
    "        print(\"--- %s seconds for %d numbers ---\" % (runtime, n))\n",
    "        # print('Array:\\n{a}\\nSorted array:\\n{a_sorted}')\n",
    "        elapsed_time.append(runtime)\n",
    "\n",
    "    for i in range(len(elapsed_time)):\n",
    "        print(f'n = {10**i} --> {elapsed_time[i]} seconds')\n"
   ]
  },
  {
   "cell_type": "markdown",
   "metadata": {},
   "source": [
    "# Merge sort"
   ]
  },
  {
   "cell_type": "code",
   "execution_count": 3,
   "metadata": {},
   "outputs": [
    {
     "name": "stdout",
     "output_type": "stream",
     "text": [
      "--- 0.0 seconds for 1 numbers ---\n",
      "--- 0.0010001659393310547 seconds for 10 numbers ---\n",
      "--- 0.001999378204345703 seconds for 100 numbers ---\n",
      "--- 0.014995098114013672 seconds for 1000 numbers ---\n",
      "--- 0.1709451675415039 seconds for 10000 numbers ---\n",
      "--- 1.9673688411712646 seconds for 100000 numbers ---\n",
      "n = 1 --> 0.0 seconds\n",
      "n = 10 --> 0.0010001659393310547 seconds\n",
      "n = 100 --> 0.001999378204345703 seconds\n",
      "n = 1000 --> 0.014995098114013672 seconds\n",
      "n = 10000 --> 0.1709451675415039 seconds\n",
      "n = 100000 --> 1.9673688411712646 seconds\n"
     ]
    }
   ],
   "source": [
    "test_function(merge_sort)"
   ]
  },
  {
   "cell_type": "markdown",
   "metadata": {},
   "source": [
    "# Insertion sort"
   ]
  },
  {
   "cell_type": "code",
   "execution_count": 4,
   "metadata": {},
   "outputs": [
    {
     "name": "stdout",
     "output_type": "stream",
     "text": [
      "--- 0.0 seconds for 1 numbers ---\n",
      "--- 0.0 seconds for 10 numbers ---\n",
      "--- 0.0019991397857666016 seconds for 100 numbers ---\n",
      "--- 0.154951810836792 seconds for 1000 numbers ---\n",
      "--- 14.726271152496338 seconds for 10000 numbers ---\n",
      "--- 1517.3185019493103 seconds for 100000 numbers ---\n",
      "n = 1 --> 0.0 seconds\n",
      "n = 10 --> 0.0 seconds\n",
      "n = 100 --> 0.0019991397857666016 seconds\n",
      "n = 1000 --> 0.154951810836792 seconds\n",
      "n = 10000 --> 14.726271152496338 seconds\n",
      "n = 100000 --> 1517.3185019493103 seconds\n"
     ]
    }
   ],
   "source": [
    "test_function(insertion_sort)"
   ]
  }
 ],
 "metadata": {
  "kernelspec": {
   "display_name": "Python 3",
   "language": "python",
   "name": "python3"
  },
  "language_info": {
   "codemirror_mode": {
    "name": "ipython",
    "version": 3
   },
   "file_extension": ".py",
   "mimetype": "text/x-python",
   "name": "python",
   "nbconvert_exporter": "python",
   "pygments_lexer": "ipython3",
   "version": "3.9.13"
  }
 },
 "nbformat": 4,
 "nbformat_minor": 2
}
